{
 "cells": [
  {
   "cell_type": "code",
   "execution_count": 1,
   "id": "9ee02e6c-3576-4d2a-87aa-4e08f67085de",
   "metadata": {},
   "outputs": [],
   "source": [
    "import pandas as pd\n",
    "import numpy as np\n",
    "from sklearn.metrics import confusion_matrix, accuracy_score\n",
    "import matplotlib.pyplot as plt\n",
    "import seaborn as sns"
   ]
  },
  {
   "cell_type": "code",
   "execution_count": 2,
   "id": "9d6b34ab-9812-49de-a30d-faf93fd492d8",
   "metadata": {},
   "outputs": [],
   "source": [
    "chatgpt_results_4o = pd.read_csv('Data/final_classified_gpt4o.csv')\n",
    "chatgpt_results_3 = pd.read_csv('Data/final_classified_gpt3turbo.csv')\n",
    "chatgpt_results_4 = pd.read_csv('Data/final_classified_gpt-4-turbo.csv') \n",
    "labels = pd.read_csv('Data/final.csv')\n",
    "examples_df = pd.read_csv('Data/examples_chatgpt.csv')"
   ]
  },
  {
   "cell_type": "code",
   "execution_count": 3,
   "id": "82d4a2c2-6f44-4ef9-ac38-86f02db8c8e1",
   "metadata": {},
   "outputs": [],
   "source": [
    "example_company_ids = examples_df['company_id'].tolist()\n",
    "labels_filtered = labels[~labels['company_id'].isin(example_company_ids)]"
   ]
  },
  {
   "cell_type": "code",
   "execution_count": 4,
   "id": "9c250bcb-c029-44b1-882b-2f2590255e8c",
   "metadata": {},
   "outputs": [],
   "source": [
    "chatgpt_results_4o = chatgpt_results_4o[chatgpt_results_4o['company_name'] != 'BeGo']\n",
    "chatgpt_results_3 = chatgpt_results_3[chatgpt_results_3['company_name'] != 'BeGo']\n",
    "chatgpt_results_4 = chatgpt_results_4[chatgpt_results_4['company_name'] != 'BeGo']\n",
    "labels_filtered = labels_filtered[labels_filtered['company_name'] != 'BeGo']"
   ]
  },
  {
   "cell_type": "code",
   "execution_count": 5,
   "id": "52180904-6bc4-4e35-8774-9904f86a85c7",
   "metadata": {},
   "outputs": [],
   "source": [
    "chatgpt_results_3.at[3, 'UVP'] = 'Ok for 3-5 years'\n",
    "chatgpt_results_3.at[3, 'Data Uniqueness'] = 'Large/Difficult to Obtain'\n",
    "chatgpt_results_3.at[7, 'UVP'] = 'Ok for 5-8 years'\n",
    "chatgpt_results_3.at[11, 'UVP'] = 'Ok for 5-8 years'\n",
    "chatgpt_results_3.at[11, 'Data Uniqueness'] = 'Large/Difficult to Obtain'\n",
    "chatgpt_results_3.at[13, 'UVP'] = np.nan\n",
    "chatgpt_results_3.at[16, 'UVP'] = 'Ok for 3-5 years'\n",
    "chatgpt_results_3.at[17, 'UVP'] = 'Ok for 5-8 years'\n",
    "chatgpt_results_3.at[23, 'UVP'] = np.nan\n",
    "chatgpt_results_3.at[36, 'Data Uniqueness'] = 'Quantity questionable'\n",
    "chatgpt_results_3.at[41, 'UVP'] = 'Ok for 1-2 years'\n",
    "chatgpt_results_3.at[58, 'UVP'] = 'Ok for 1-2 years'\n",
    "chatgpt_results_3.at[76, 'UVP'] = 'Ok for 5-8 years'\n",
    "chatgpt_results_3.at[82, 'Data Uniqueness'] = 'Quantity questionable'\n",
    "chatgpt_results_3.at[87, 'UVP'] = 'Ok for 5-8 years'\n",
    "chatgpt_results_3.at[96, 'UVP'] = 'Ok for 1-2 years'"
   ]
  },
  {
   "cell_type": "code",
   "execution_count": 6,
   "id": "636a407e-5344-4273-b651-1db8e22699e0",
   "metadata": {},
   "outputs": [],
   "source": [
    "true_labels = labels_filtered[['company_id', 'UVP', 'Data Uniqueness']]"
   ]
  },
  {
   "cell_type": "code",
   "execution_count": 7,
   "id": "7705f772-34bf-4070-8bcf-c662925b0ed8",
   "metadata": {},
   "outputs": [],
   "source": [
    "predicted_labels_1 = chatgpt_results_3[['company_id', 'UVP', 'Data Uniqueness']]"
   ]
  },
  {
   "cell_type": "code",
   "execution_count": 8,
   "id": "2f600c63-f043-46f4-9e34-f3de697e3e3c",
   "metadata": {},
   "outputs": [
    {
     "name": "stderr",
     "output_type": "stream",
     "text": [
      "/scratch-local/ndargan.6654157/ipykernel_1063404/676274529.py:1: SettingWithCopyWarning: \n",
      "A value is trying to be set on a copy of a slice from a DataFrame\n",
      "\n",
      "See the caveats in the documentation: https://pandas.pydata.org/pandas-docs/stable/user_guide/indexing.html#returning-a-view-versus-a-copy\n",
      "  predicted_labels_1.drop(predicted_labels_1[predicted_labels_1['UVP'].isna() & predicted_labels_1['Data Uniqueness'].isna()].index, inplace=True)\n"
     ]
    }
   ],
   "source": [
    " predicted_labels_1.drop(predicted_labels_1[predicted_labels_1['UVP'].isna() & predicted_labels_1['Data Uniqueness'].isna()].index, inplace=True)"
   ]
  },
  {
   "cell_type": "code",
   "execution_count": 9,
   "id": "95bd081f-077a-4fdf-86b5-5777884f3615",
   "metadata": {},
   "outputs": [
    {
     "data": {
      "text/html": [
       "<div>\n",
       "<style scoped>\n",
       "    .dataframe tbody tr th:only-of-type {\n",
       "        vertical-align: middle;\n",
       "    }\n",
       "\n",
       "    .dataframe tbody tr th {\n",
       "        vertical-align: top;\n",
       "    }\n",
       "\n",
       "    .dataframe thead th {\n",
       "        text-align: right;\n",
       "    }\n",
       "</style>\n",
       "<table border=\"1\" class=\"dataframe\">\n",
       "  <thead>\n",
       "    <tr style=\"text-align: right;\">\n",
       "      <th></th>\n",
       "      <th>company_id</th>\n",
       "      <th>UVP</th>\n",
       "      <th>Data Uniqueness</th>\n",
       "    </tr>\n",
       "  </thead>\n",
       "  <tbody>\n",
       "    <tr>\n",
       "      <th>0</th>\n",
       "      <td>28367.0</td>\n",
       "      <td>Ok for 3-5 years</td>\n",
       "      <td>Not Special/Publicly Available</td>\n",
       "    </tr>\n",
       "    <tr>\n",
       "      <th>1</th>\n",
       "      <td>27989.0</td>\n",
       "      <td>Ok for 3-5 years</td>\n",
       "      <td>Not Special/Publicly Available</td>\n",
       "    </tr>\n",
       "    <tr>\n",
       "      <th>2</th>\n",
       "      <td>27966.0</td>\n",
       "      <td>Ok for 3-5 years</td>\n",
       "      <td>Large/Difficult to Obtain</td>\n",
       "    </tr>\n",
       "    <tr>\n",
       "      <th>3</th>\n",
       "      <td>27943.0</td>\n",
       "      <td>Ok for 3-5 years</td>\n",
       "      <td>Large/Difficult to Obtain</td>\n",
       "    </tr>\n",
       "    <tr>\n",
       "      <th>4</th>\n",
       "      <td>27890.0</td>\n",
       "      <td>Ok for 3-5 years</td>\n",
       "      <td>Large/Difficult to Obtain</td>\n",
       "    </tr>\n",
       "    <tr>\n",
       "      <th>...</th>\n",
       "      <td>...</td>\n",
       "      <td>...</td>\n",
       "      <td>...</td>\n",
       "    </tr>\n",
       "    <tr>\n",
       "      <th>98</th>\n",
       "      <td>13348.0</td>\n",
       "      <td>Ok for 3-5 years</td>\n",
       "      <td>Large/Difficult to Obtain</td>\n",
       "    </tr>\n",
       "    <tr>\n",
       "      <th>100</th>\n",
       "      <td>13218.0</td>\n",
       "      <td>Ok for 3-5 years</td>\n",
       "      <td>Large/Difficult to Obtain</td>\n",
       "    </tr>\n",
       "    <tr>\n",
       "      <th>101</th>\n",
       "      <td>13147.0</td>\n",
       "      <td>Already obsolete</td>\n",
       "      <td>Large/Difficult to Obtain</td>\n",
       "    </tr>\n",
       "    <tr>\n",
       "      <th>102</th>\n",
       "      <td>13144.0</td>\n",
       "      <td>Ok for 3-5 years</td>\n",
       "      <td>Large/Difficult to Obtain</td>\n",
       "    </tr>\n",
       "    <tr>\n",
       "      <th>103</th>\n",
       "      <td>13145.0</td>\n",
       "      <td>Ok for 5-8 years</td>\n",
       "      <td>Large/Difficult to Obtain</td>\n",
       "    </tr>\n",
       "  </tbody>\n",
       "</table>\n",
       "<p>99 rows × 3 columns</p>\n",
       "</div>"
      ],
      "text/plain": [
       "     company_id               UVP                 Data Uniqueness\n",
       "0       28367.0  Ok for 3-5 years  Not Special/Publicly Available\n",
       "1       27989.0  Ok for 3-5 years  Not Special/Publicly Available\n",
       "2       27966.0  Ok for 3-5 years       Large/Difficult to Obtain\n",
       "3       27943.0  Ok for 3-5 years       Large/Difficult to Obtain\n",
       "4       27890.0  Ok for 3-5 years       Large/Difficult to Obtain\n",
       "..          ...               ...                             ...\n",
       "98      13348.0  Ok for 3-5 years       Large/Difficult to Obtain\n",
       "100     13218.0  Ok for 3-5 years       Large/Difficult to Obtain\n",
       "101     13147.0  Already obsolete       Large/Difficult to Obtain\n",
       "102     13144.0  Ok for 3-5 years       Large/Difficult to Obtain\n",
       "103     13145.0  Ok for 5-8 years       Large/Difficult to Obtain\n",
       "\n",
       "[99 rows x 3 columns]"
      ]
     },
     "execution_count": 9,
     "metadata": {},
     "output_type": "execute_result"
    }
   ],
   "source": [
    "predicted_labels_1"
   ]
  },
  {
   "cell_type": "code",
   "execution_count": 10,
   "id": "85c910b7-c686-4398-992f-9583a62614e3",
   "metadata": {},
   "outputs": [],
   "source": [
    "comparison_df = pd.merge(\n",
    "    true_labels[['company_id', 'UVP', 'Data Uniqueness']],\n",
    "    predicted_labels_1[['company_id', 'UVP', 'Data Uniqueness']],\n",
    "    on='company_id',\n",
    "    suffixes=('_true', '_predicted')\n",
    ")\n",
    "\n",
    "comparison_df.fillna('N/A', inplace=True)"
   ]
  },
  {
   "cell_type": "code",
   "execution_count": 11,
   "id": "b49ed1fd-8667-4508-a694-78e19478ff7d",
   "metadata": {},
   "outputs": [],
   "source": [
    "# Unique Value Proposition (UVP) confusion matrix\n",
    "uvp_true = comparison_df['UVP_true']\n",
    "uvp_pred = comparison_df['UVP_predicted']\n",
    "uvp_labels = [\"Already obsolete\", \"Ok for 1-2 years\", \"Ok for 3-5 years\", \"Ok for 5-8 years\"]\n",
    "uvp_confusion_matrix = confusion_matrix(uvp_true, uvp_pred, labels=uvp_labels)\n",
    "\n",
    "# Database Characteristics confusion matrix\n",
    "data_true = comparison_df['Data Uniqueness_true']\n",
    "data_pred = comparison_df['Data Uniqueness_predicted']\n",
    "data_labels = [\"Large/Difficult to Obtain\", \"Questionable Quantity\", \"Not Special/Publicly Available\", \"N/A\"]\n",
    "data_confusion_matrix = confusion_matrix(data_true, data_pred, labels=data_labels)\n",
    "\n",
    "# Plotting the confusion matrices\n",
    "fig, ax = plt.subplots(1, 2, figsize=(20, 8))\n",
    "\n",
    "sns.heatmap(uvp_confusion_matrix, annot=True, fmt='d', xticklabels=uvp_labels, yticklabels=uvp_labels, ax=ax[0])\n",
    "ax[0].set_title('Confusion Matrix for UVP')\n",
    "ax[0].set_xlabel('Predicted')\n",
    "ax[0].set_ylabel('True')\n",
    "\n",
    "sns.heatmap(data_confusion_matrix, annot=True, fmt='d', xticklabels=data_labels, yticklabels=data_labels, ax=ax[1])\n",
    "ax[1].set_title('Confusion Matrix for Database Characteristics')\n",
    "ax[1].set_xlabel('Predicted')\n",
    "ax[1].set_ylabel('True')\n",
    "\n",
    "plt.tight_layout()\n",
    "plt.show()"
   ]
  },
  {
   "cell_type": "code",
   "execution_count": 12,
   "id": "03c22629-5b58-4e42-9695-2cb5bd9a6d0b",
   "metadata": {},
   "outputs": [
    {
     "data": {
      "text/plain": [
       "0.24242424242424243"
      ]
     },
     "execution_count": 12,
     "metadata": {},
     "output_type": "execute_result"
    }
   ],
   "source": [
    "accuracy_uvp_gpt3_5 = accuracy_score(comparison_df['UVP_true'], comparison_df['UVP_predicted'])\n",
    "accuracy_uvp_gpt3_5"
   ]
  },
  {
   "cell_type": "code",
   "execution_count": 13,
   "id": "7f92dc1e-dd81-41d6-a722-0e2c5d8cb499",
   "metadata": {},
   "outputs": [
    {
     "data": {
      "text/plain": [
       "0.40404040404040403"
      ]
     },
     "execution_count": 13,
     "metadata": {},
     "output_type": "execute_result"
    }
   ],
   "source": [
    "accuracy_du_gpt3_5 = accuracy_score(comparison_df['Data Uniqueness_true'], comparison_df['Data Uniqueness_predicted'])\n",
    "accuracy_du_gpt3_5"
   ]
  },
  {
   "cell_type": "code",
   "execution_count": 14,
   "id": "84517f6c-4234-40dc-8948-92339b95b884",
   "metadata": {},
   "outputs": [],
   "source": [
    "comparison_df.to_csv('Data/comparison_df_gpt3_5', index=False) "
   ]
  },
  {
   "cell_type": "code",
   "execution_count": null,
   "id": "4255aaa9-3368-4fb2-86ba-9f5c083492b3",
   "metadata": {},
   "outputs": [],
   "source": []
  },
  {
   "cell_type": "code",
   "execution_count": 15,
   "id": "d6a4d683-8159-475c-9320-620949ed4757",
   "metadata": {},
   "outputs": [],
   "source": [
    "chatgpt_results_4o.at[3, 'UVP'] = 'Ok for 5-8 years'\n",
    "chatgpt_results_4o.at[3, 'Data Uniqueness'] = 'Large/Difficult to Obtain'\n",
    "chatgpt_results_4o.at[9, 'UVP'] = 'Ok for 5-8 years'\n",
    "chatgpt_results_4o.at[9, 'Data Uniqueness'] = 'Large/Difficult to Obtain'\n",
    "chatgpt_results_4o.at[21, 'UVP'] = 'Ok for 3-5 years'\n",
    "chatgpt_results_4o.at[21, 'Data Uniqueness'] = 'Not Special/Publicly Available'\n",
    "chatgpt_results_4o.at[32, 'UVP'] = 'Ok for 1-2 years'\n",
    "chatgpt_results_4o.at[32, 'Data Uniqueness'] = 'Not Special/Publicly Available'\n",
    "chatgpt_results_4o.at[32, 'UVP'] = 'Ok for 3-5 years'\n",
    "chatgpt_results_4o.at[32, 'Data Uniqueness'] = 'Not Special/Publicly Available'\n",
    "chatgpt_results_4o.at[44, 'UVP'] = 'Ok for 3-5 years'\n",
    "chatgpt_results_4o.at[44, 'Data Uniqueness'] = 'Large/Difficult to Obtain'\n",
    "chatgpt_results_4o.at[45, 'UVP'] = 'Ok for 3-5 years'\n",
    "chatgpt_results_4o.at[45, 'Data Uniqueness'] = 'Not Special/Publicly Available'\n",
    "chatgpt_results_4o.at[54, 'UVP'] = 'Ok for 1-2 years'\n",
    "chatgpt_results_4o.at[54, 'Data Uniqueness'] = 'Not Special/Publicly Available'\n",
    "chatgpt_results_4o.at[62, 'UVP'] = 'Ok for 1-2 years'\n",
    "chatgpt_results_4o.at[62, 'Data Uniqueness'] = 'Not Special/Publicly Available'\n",
    "chatgpt_results_4o.at[69, 'UVP'] = 'Ok for 3-5 years'\n",
    "chatgpt_results_4o.at[69, 'Data Uniqueness'] = 'Not Special/Publicly Available'\n",
    "chatgpt_results_4o.at[87, 'UVP'] = 'Ok for 3-5 years'\n",
    "chatgpt_results_4o.at[87, 'Data Uniqueness'] = 'Large/Difficult to Obtain'\n",
    "chatgpt_results_4o.at[95, 'UVP'] = 'Ok for 5-8 years'\n",
    "chatgpt_results_4o.at[95, 'Data Uniqueness'] = 'Not Special/Publicly Available'\n",
    "chatgpt_results_4o.at[98, 'UVP'] = 'Ok for 3-5 years'\n",
    "chatgpt_results_4o.at[98, 'Data Uniqueness'] = 'Large/Difficult to Obtain'\n",
    "chatgpt_results_4o.at[99, 'UVP'] = 'Ok for 3-5 years'\n",
    "chatgpt_results_4o.at[99, 'Data Uniqueness'] = 'Not Special/Publicly Available'\n",
    "chatgpt_results_4o.at[101, 'UVP'] = 'Ok for 1-2 years'\n",
    "chatgpt_results_4o.at[101, 'Data Uniqueness'] = 'Not Special/Publicly Available'\n",
    "chatgpt_results_4o.at[103, 'UVP'] = 'Ok for 3-5 years'\n",
    "chatgpt_results_4o.at[103, 'Data Uniqueness'] = 'Not Special/Publicly Available'"
   ]
  },
  {
   "cell_type": "code",
   "execution_count": 16,
   "id": "79beca8f-1754-4159-a79b-393ff2fedb10",
   "metadata": {},
   "outputs": [],
   "source": [
    "predicted_labels_2 = chatgpt_results_4o[['company_id', 'UVP', 'Data Uniqueness']]"
   ]
  },
  {
   "cell_type": "code",
   "execution_count": 17,
   "id": "2ce3e9ac-9653-4395-93e1-a529f3b78c0d",
   "metadata": {},
   "outputs": [
    {
     "name": "stderr",
     "output_type": "stream",
     "text": [
      "/scratch-local/ndargan.6654157/ipykernel_1063404/771367113.py:1: SettingWithCopyWarning: \n",
      "A value is trying to be set on a copy of a slice from a DataFrame\n",
      "\n",
      "See the caveats in the documentation: https://pandas.pydata.org/pandas-docs/stable/user_guide/indexing.html#returning-a-view-versus-a-copy\n",
      "  predicted_labels_2.drop(predicted_labels_2[predicted_labels_2['UVP'].isna() & predicted_labels_2['Data Uniqueness'].isna()].index, inplace=True)\n"
     ]
    }
   ],
   "source": [
    " predicted_labels_2.drop(predicted_labels_2[predicted_labels_2['UVP'].isna() & predicted_labels_2['Data Uniqueness'].isna()].index, inplace=True)"
   ]
  },
  {
   "cell_type": "code",
   "execution_count": 18,
   "id": "e087cedf-21c7-4ec8-96ed-de1eff1e2373",
   "metadata": {},
   "outputs": [
    {
     "data": {
      "text/html": [
       "<div>\n",
       "<style scoped>\n",
       "    .dataframe tbody tr th:only-of-type {\n",
       "        vertical-align: middle;\n",
       "    }\n",
       "\n",
       "    .dataframe tbody tr th {\n",
       "        vertical-align: top;\n",
       "    }\n",
       "\n",
       "    .dataframe thead th {\n",
       "        text-align: right;\n",
       "    }\n",
       "</style>\n",
       "<table border=\"1\" class=\"dataframe\">\n",
       "  <thead>\n",
       "    <tr style=\"text-align: right;\">\n",
       "      <th></th>\n",
       "      <th>company_id</th>\n",
       "      <th>UVP</th>\n",
       "      <th>Data Uniqueness</th>\n",
       "    </tr>\n",
       "  </thead>\n",
       "  <tbody>\n",
       "    <tr>\n",
       "      <th>0</th>\n",
       "      <td>28367.0</td>\n",
       "      <td>Ok for 3-5 years</td>\n",
       "      <td>Not Special/Publicly Available</td>\n",
       "    </tr>\n",
       "    <tr>\n",
       "      <th>1</th>\n",
       "      <td>27989.0</td>\n",
       "      <td>Ok for 3-5 years</td>\n",
       "      <td>Not Special/Publicly Available</td>\n",
       "    </tr>\n",
       "    <tr>\n",
       "      <th>2</th>\n",
       "      <td>27966.0</td>\n",
       "      <td>Ok for 3-5 years</td>\n",
       "      <td>Not Special/Publicly Available</td>\n",
       "    </tr>\n",
       "    <tr>\n",
       "      <th>3</th>\n",
       "      <td>27943.0</td>\n",
       "      <td>Ok for 5-8 years</td>\n",
       "      <td>Large/Difficult to Obtain</td>\n",
       "    </tr>\n",
       "    <tr>\n",
       "      <th>4</th>\n",
       "      <td>27890.0</td>\n",
       "      <td>Ok for 3-5 years</td>\n",
       "      <td>Not Special/Publicly Available</td>\n",
       "    </tr>\n",
       "    <tr>\n",
       "      <th>...</th>\n",
       "      <td>...</td>\n",
       "      <td>...</td>\n",
       "      <td>...</td>\n",
       "    </tr>\n",
       "    <tr>\n",
       "      <th>99</th>\n",
       "      <td>13224.0</td>\n",
       "      <td>Ok for 3-5 years</td>\n",
       "      <td>Not Special/Publicly Available</td>\n",
       "    </tr>\n",
       "    <tr>\n",
       "      <th>100</th>\n",
       "      <td>13218.0</td>\n",
       "      <td>Ok for 5-8 years</td>\n",
       "      <td>Large/Difficult to Obtain</td>\n",
       "    </tr>\n",
       "    <tr>\n",
       "      <th>101</th>\n",
       "      <td>13147.0</td>\n",
       "      <td>Ok for 1-2 years</td>\n",
       "      <td>Not Special/Publicly Available</td>\n",
       "    </tr>\n",
       "    <tr>\n",
       "      <th>102</th>\n",
       "      <td>13144.0</td>\n",
       "      <td>Ok for 3-5 years</td>\n",
       "      <td>Large/Difficult to Obtain</td>\n",
       "    </tr>\n",
       "    <tr>\n",
       "      <th>103</th>\n",
       "      <td>13145.0</td>\n",
       "      <td>Ok for 3-5 years</td>\n",
       "      <td>Not Special/Publicly Available</td>\n",
       "    </tr>\n",
       "  </tbody>\n",
       "</table>\n",
       "<p>101 rows × 3 columns</p>\n",
       "</div>"
      ],
      "text/plain": [
       "     company_id               UVP                 Data Uniqueness\n",
       "0       28367.0  Ok for 3-5 years  Not Special/Publicly Available\n",
       "1       27989.0  Ok for 3-5 years  Not Special/Publicly Available\n",
       "2       27966.0  Ok for 3-5 years  Not Special/Publicly Available\n",
       "3       27943.0  Ok for 5-8 years       Large/Difficult to Obtain\n",
       "4       27890.0  Ok for 3-5 years  Not Special/Publicly Available\n",
       "..          ...               ...                             ...\n",
       "99      13224.0  Ok for 3-5 years  Not Special/Publicly Available\n",
       "100     13218.0  Ok for 5-8 years       Large/Difficult to Obtain\n",
       "101     13147.0  Ok for 1-2 years  Not Special/Publicly Available\n",
       "102     13144.0  Ok for 3-5 years       Large/Difficult to Obtain\n",
       "103     13145.0  Ok for 3-5 years  Not Special/Publicly Available\n",
       "\n",
       "[101 rows x 3 columns]"
      ]
     },
     "execution_count": 18,
     "metadata": {},
     "output_type": "execute_result"
    }
   ],
   "source": [
    "predicted_labels_2"
   ]
  },
  {
   "cell_type": "code",
   "execution_count": 19,
   "id": "2150e81f-55bd-4c00-850f-b41195e3dacc",
   "metadata": {},
   "outputs": [],
   "source": [
    "comparison_df_2 = pd.merge(\n",
    "    true_labels[['company_id', 'UVP', 'Data Uniqueness']],\n",
    "    predicted_labels_2[['company_id', 'UVP', 'Data Uniqueness']],\n",
    "    on='company_id',\n",
    "    suffixes=('_true', '_predicted')\n",
    ")\n",
    "\n",
    "comparison_df_2.fillna('N/A', inplace=True)"
   ]
  },
  {
   "cell_type": "code",
   "execution_count": 20,
   "id": "31941e01-efa5-49b9-b5b6-3a1eff1f8e4b",
   "metadata": {},
   "outputs": [],
   "source": [
    "# Unique Value Proposition (UVP) confusion matrix\n",
    "uvp_true = comparison_df_2['UVP_true']\n",
    "uvp_pred = comparison_df_2['UVP_predicted']\n",
    "uvp_labels = [\"Already obsolete\", \"Ok for 1-2 years\", \"Ok for 3-5 years\", \"Ok for 5-8 years\"]\n",
    "uvp_confusion_matrix = confusion_matrix(uvp_true, uvp_pred, labels=uvp_labels)\n",
    "\n",
    "# Database Characteristics confusion matrix\n",
    "data_true = comparison_df_2['Data Uniqueness_true']\n",
    "data_pred = comparison_df_2['Data Uniqueness_predicted']\n",
    "data_labels = [\"Large/Difficult to Obtain\", \"Questionable Quantity\", \"Not Special/Publicly Available\", \"N/A\"]\n",
    "data_confusion_matrix = confusion_matrix(data_true, data_pred, labels=data_labels)\n",
    "\n",
    "# Plotting the confusion matrices\n",
    "fig, ax = plt.subplots(1, 2, figsize=(20, 8))\n",
    "\n",
    "sns.heatmap(uvp_confusion_matrix, annot=True, fmt='d', xticklabels=uvp_labels, yticklabels=uvp_labels, ax=ax[0])\n",
    "ax[0].set_title('Confusion Matrix for UVP')\n",
    "ax[0].set_xlabel('Predicted')\n",
    "ax[0].set_ylabel('True')\n",
    "\n",
    "sns.heatmap(data_confusion_matrix, annot=True, fmt='d', xticklabels=data_labels, yticklabels=data_labels, ax=ax[1])\n",
    "ax[1].set_title('Confusion Matrix for Database Characteristics')\n",
    "ax[1].set_xlabel('Predicted')\n",
    "ax[1].set_ylabel('True')\n",
    "\n",
    "plt.tight_layout()\n",
    "plt.show()"
   ]
  },
  {
   "cell_type": "code",
   "execution_count": 21,
   "id": "4860e414-ff97-488a-a9dc-48af853b6178",
   "metadata": {},
   "outputs": [
    {
     "data": {
      "text/plain": [
       "0.27722772277227725"
      ]
     },
     "execution_count": 21,
     "metadata": {},
     "output_type": "execute_result"
    }
   ],
   "source": [
    "accuracy_uvp_gpt4o = accuracy_score(comparison_df_2['UVP_true'], comparison_df_2['UVP_predicted'])\n",
    "accuracy_uvp_gpt4o"
   ]
  },
  {
   "cell_type": "code",
   "execution_count": 22,
   "id": "de58a6f6-a592-491f-a456-d4f3ead5ee2c",
   "metadata": {},
   "outputs": [
    {
     "data": {
      "text/plain": [
       "0.5742574257425742"
      ]
     },
     "execution_count": 22,
     "metadata": {},
     "output_type": "execute_result"
    }
   ],
   "source": [
    "accuracy_du_gpt4o = accuracy_score(comparison_df_2['Data Uniqueness_true'], comparison_df_2['Data Uniqueness_predicted'])\n",
    "accuracy_du_gpt4o"
   ]
  },
  {
   "cell_type": "code",
   "execution_count": 23,
   "id": "f5813d41-a628-48e0-8d54-8f94028f3296",
   "metadata": {},
   "outputs": [],
   "source": [
    "comparison_df_2.to_csv('Data/comparison_df_gpt4o', index=False)"
   ]
  },
  {
   "cell_type": "code",
   "execution_count": null,
   "id": "b363d098-0523-4393-90fe-c6a4b92fb544",
   "metadata": {},
   "outputs": [],
   "source": []
  },
  {
   "cell_type": "code",
   "execution_count": 24,
   "id": "f9d350f7-e5f0-45d9-ba61-e370b27c1eba",
   "metadata": {},
   "outputs": [],
   "source": [
    "chatgpt_results_4.at[1, 'UVP'] = 'Ok for 3-5 years'\n",
    "chatgpt_results_4.at[1, 'Data Uniqueness'] = 'Not Special/Publicly Available'\n",
    "chatgpt_results_4.at[5, 'UVP'] = 'Ok for 5-8 years'\n",
    "chatgpt_results_4.at[5, 'Data Uniqueness'] = 'Large/Difficult to Obtain'\n",
    "chatgpt_results_4.at[11, 'UVP'] = 'Ok for 3-5 years'\n",
    "chatgpt_results_4.at[11, 'Data Uniqueness'] = 'Large/Difficult to Obtain'\n",
    "chatgpt_results_4.at[13, 'UVP'] = 'Ok for 5-8 years'\n",
    "chatgpt_results_4.at[13, 'Data Uniqueness'] = 'Large/Difficult to Obtain'\n",
    "chatgpt_results_4.at[14, 'UVP'] = 'Ok for 5-8 years'\n",
    "chatgpt_results_4.at[14, 'Data Uniqueness'] = 'Large/Difficult to Obtain'\n",
    "chatgpt_results_4.at[15, 'UVP'] = 'Ok for 5-8 years'\n",
    "chatgpt_results_4.at[15, 'Data Uniqueness'] = 'Large/Difficult to Obtain'\n",
    "chatgpt_results_4.at[19, 'UVP'] = 'Ok for 5-8 years'\n",
    "chatgpt_results_4.at[19, 'Data Uniqueness'] = 'Large/Difficult to Obtain'\n",
    "chatgpt_results_4.at[20, 'UVP'] = 'Ok for 1-2 years'\n",
    "chatgpt_results_4.at[20, 'Data Uniqueness'] = 'Not Special/Publicly Available'\n",
    "chatgpt_results_4.at[25, 'UVP'] = 'Ok for 5-8 years'\n",
    "chatgpt_results_4.at[25, 'Data Uniqueness'] = 'Large/Difficult to Obtain'\n",
    "chatgpt_results_4.at[27, 'UVP'] = 'Ok for 3-5 years'\n",
    "chatgpt_results_4.at[27, 'Data Uniqueness'] = 'Large/Difficult to Obtain'\n",
    "chatgpt_results_4.at[29, 'UVP'] = 'Ok for 3-5 years'\n",
    "chatgpt_results_4.at[29, 'Data Uniqueness'] = 'Large/Difficult to Obtain'\n",
    "chatgpt_results_4.at[30, 'UVP'] = 'Ok for 3-5 years'\n",
    "chatgpt_results_4.at[30, 'Data Uniqueness'] = 'Large/Difficult to Obtain'\n",
    "chatgpt_results_4.at[31, 'UVP'] = 'Ok for 1-2 years'\n",
    "chatgpt_results_4.at[31, 'Data Uniqueness'] = 'Large/Difficult to Obtain'\n",
    "chatgpt_results_4.at[32, 'UVP'] = 'Ok for 5-8 years'\n",
    "chatgpt_results_4.at[32, 'Data Uniqueness'] = 'Large/Difficult to Obtain'\n",
    "chatgpt_results_4.at[35, 'UVP'] = 'Ok for 3-5 years'\n",
    "chatgpt_results_4.at[35, 'Data Uniqueness'] = 'Large/Difficult to Obtain'\n",
    "chatgpt_results_4.at[36, 'UVP'] = 'Ok for 5-8 years'\n",
    "chatgpt_results_4.at[36, 'Data Uniqueness'] = 'Not Special/Publicly Available'\n",
    "chatgpt_results_4.at[38, 'UVP'] = 'Ok for 1-2 years'\n",
    "chatgpt_results_4.at[38, 'Data Uniqueness'] = 'Not Special/Publicly Available'\n",
    "chatgpt_results_4.at[39, 'UVP'] = 'Ok for 3-5 years'\n",
    "chatgpt_results_4.at[39, 'Data Uniqueness'] = 'Not Special/Publicly Available'\n",
    "chatgpt_results_4.at[40, 'UVP'] = 'Ok for 1-2 years'\n",
    "chatgpt_results_4.at[40, 'Data Uniqueness'] = 'Not Special/Publicly Available'\n",
    "chatgpt_results_4.at[43, 'UVP'] = 'Ok for 3-5 years'\n",
    "chatgpt_results_4.at[43, 'Data Uniqueness'] = 'Large/Difficult to Obtain'\n",
    "chatgpt_results_4.at[45, 'UVP'] = 'Ok for 5-8 years'\n",
    "chatgpt_results_4.at[45, 'Data Uniqueness'] = 'Large/Difficult to Obtain'\n",
    "chatgpt_results_4.at[51, 'UVP'] = 'Ok for 3-5 years'\n",
    "chatgpt_results_4.at[51, 'Data Uniqueness'] = 'Not Special/Publicly Available'\n",
    "chatgpt_results_4.at[54, 'Data Uniqueness'] = 'Not Special/Publicly Available'\n",
    "chatgpt_results_4.at[55, 'Data Uniqueness'] = 'Large/Difficult to Obtain'\n",
    "chatgpt_results_4.at[61, 'UVP'] = 'Ok for 5-8 years'\n",
    "chatgpt_results_4.at[61, 'Data Uniqueness'] = 'Large/Difficult to Obtain'\n",
    "chatgpt_results_4.at[62, 'UVP'] = 'Ok for 1-2 years'\n",
    "chatgpt_results_4.at[62, 'Data Uniqueness'] = 'Not Special/Publicly Available'\n",
    "chatgpt_results_4.at[65, 'UVP'] = 'Ok for 5-8 years'\n",
    "chatgpt_results_4.at[65, 'Data Uniqueness'] = 'Large/Difficult to Obtain'\n",
    "chatgpt_results_4.at[76, 'UVP'] = 'Ok for 5-8 years'\n",
    "chatgpt_results_4.at[76, 'Data Uniqueness'] = 'Large/Difficult to Obtain'\n",
    "chatgpt_results_4.at[77, 'UVP'] = 'Ok for 1-2 years'\n",
    "chatgpt_results_4.at[77, 'Data Uniqueness'] = 'Not Special/Publicly Available'\n",
    "chatgpt_results_4.at[84, 'UVP'] = 'Ok for 1-2 years'\n",
    "chatgpt_results_4.at[84, 'Data Uniqueness'] = 'Not Special/Publicly Available'\n",
    "chatgpt_results_4.at[85, 'UVP'] = 'Ok for 5-8 years'\n",
    "chatgpt_results_4.at[85, 'Data Uniqueness'] = 'Large/Difficult to Obtain'\n",
    "chatgpt_results_4.at[86, 'UVP'] = 'Ok for 3-5 years'\n",
    "chatgpt_results_4.at[86, 'Data Uniqueness'] = 'Large/Difficult to Obtain'\n",
    "chatgpt_results_4.at[94, 'UVP'] = 'Ok for 3-5 years'\n",
    "chatgpt_results_4.at[94, 'Data Uniqueness'] = 'Not Special/Publicly Available'\n",
    "chatgpt_results_4.at[95, 'UVP'] = 'Ok for 3-5 years'\n",
    "chatgpt_results_4.at[95, 'Data Uniqueness'] = 'Large/Difficult to Obtain'\n",
    "chatgpt_results_4.at[102, 'UVP'] = 'Ok for 5-8 years'\n",
    "chatgpt_results_4.at[102, 'Data Uniqueness'] = 'Large/Difficult to Obtain'\n",
    "\n",
    "\n",
    "\n",
    "\n",
    "\n",
    "chatgpt_results_4.at[3, 'UVP'] = 'Ok for 5-8 years'\n",
    "chatgpt_results_4.at[17, 'UVP'] = 'Ok for 5-8 years'\n",
    "chatgpt_results_4.at[18, 'UVP'] = 'Ok for 5-8 years'\n",
    "chatgpt_results_4.at[23, 'UVP'] = 'Ok for 5-8 years'\n",
    "chatgpt_results_4.at[24, 'UVP'] = 'Ok for 5-8 years'\n",
    "chatgpt_results_4.at[42, 'UVP'] = 'Ok for 5-8 years'\n",
    "chatgpt_results_4.at[44, 'UVP'] = 'Ok for 5-8 years'\n",
    "chatgpt_results_4.at[46, 'UVP'] = 'Ok for 3-5 years'\n",
    "chatgpt_results_4.at[48, 'Data Uniqueness'] = 'Not Special/Publicly Available'\n",
    "chatgpt_results_4.at[53, 'Data Uniqueness'] = 'Not Special/Publicly Available'\n",
    "chatgpt_results_4.at[58, 'UVP'] = 'Ok for 5-8 years'\n",
    "chatgpt_results_4.at[63, 'UVP'] = 'Ok for 5-8 years'\n",
    "chatgpt_results_4.at[64, 'UVP'] = 'Ok for 5-8 years'\n",
    "chatgpt_results_4.at[80, 'UVP'] = 'Ok for 5-8 years'\n",
    "chatgpt_results_4.at[91, 'Data Uniqueness'] = 'Not Special/Publicly Available'\n",
    "chatgpt_results_4.at[93, 'UVP'] = 'Ok for 5-8 years'\n",
    "chatgpt_results_4.at[96, 'UVP'] = 'Ok for 3-5 years'\n",
    "chatgpt_results_4.at[99, 'UVP'] = 'Ok for 5-8 years'\n",
    "chatgpt_results_4.at[100, 'UVP'] = 'Ok for 5-8 years'"
   ]
  },
  {
   "cell_type": "code",
   "execution_count": 25,
   "id": "56833cb2-b3f2-42e7-8bc5-58f9d45d5ce0",
   "metadata": {},
   "outputs": [],
   "source": [
    "predicted_labels_3 = chatgpt_results_4[['company_id', 'UVP', 'Data Uniqueness']]"
   ]
  },
  {
   "cell_type": "code",
   "execution_count": 26,
   "id": "3382b8b3-1441-4a34-8840-9e3fc4df5a37",
   "metadata": {},
   "outputs": [
    {
     "name": "stderr",
     "output_type": "stream",
     "text": [
      "/scratch-local/ndargan.6654157/ipykernel_1063404/2745446985.py:1: SettingWithCopyWarning: \n",
      "A value is trying to be set on a copy of a slice from a DataFrame\n",
      "\n",
      "See the caveats in the documentation: https://pandas.pydata.org/pandas-docs/stable/user_guide/indexing.html#returning-a-view-versus-a-copy\n",
      "  predicted_labels_3.drop(predicted_labels_3[predicted_labels_3['UVP'].isna() & predicted_labels_3['Data Uniqueness'].isna()].index, inplace=True)\n"
     ]
    }
   ],
   "source": [
    " predicted_labels_3.drop(predicted_labels_3[predicted_labels_3['UVP'].isna() & predicted_labels_3['Data Uniqueness'].isna()].index, inplace=True)"
   ]
  },
  {
   "cell_type": "code",
   "execution_count": 27,
   "id": "f6e10da1-6757-4625-87fb-f5933a35da29",
   "metadata": {},
   "outputs": [
    {
     "data": {
      "text/html": [
       "<div>\n",
       "<style scoped>\n",
       "    .dataframe tbody tr th:only-of-type {\n",
       "        vertical-align: middle;\n",
       "    }\n",
       "\n",
       "    .dataframe tbody tr th {\n",
       "        vertical-align: top;\n",
       "    }\n",
       "\n",
       "    .dataframe thead th {\n",
       "        text-align: right;\n",
       "    }\n",
       "</style>\n",
       "<table border=\"1\" class=\"dataframe\">\n",
       "  <thead>\n",
       "    <tr style=\"text-align: right;\">\n",
       "      <th></th>\n",
       "      <th>company_id</th>\n",
       "      <th>UVP</th>\n",
       "      <th>Data Uniqueness</th>\n",
       "    </tr>\n",
       "  </thead>\n",
       "  <tbody>\n",
       "    <tr>\n",
       "      <th>0</th>\n",
       "      <td>28367.0</td>\n",
       "      <td>Ok for 5-8 years</td>\n",
       "      <td>Not Special/Publicly Available</td>\n",
       "    </tr>\n",
       "    <tr>\n",
       "      <th>1</th>\n",
       "      <td>27989.0</td>\n",
       "      <td>Ok for 3-5 years</td>\n",
       "      <td>Not Special/Publicly Available</td>\n",
       "    </tr>\n",
       "    <tr>\n",
       "      <th>2</th>\n",
       "      <td>27966.0</td>\n",
       "      <td>Ok for 5-8 years</td>\n",
       "      <td>Large/Difficult to Obtain</td>\n",
       "    </tr>\n",
       "    <tr>\n",
       "      <th>3</th>\n",
       "      <td>27943.0</td>\n",
       "      <td>Ok for 5-8 years</td>\n",
       "      <td>Large/Difficult to Obtain</td>\n",
       "    </tr>\n",
       "    <tr>\n",
       "      <th>4</th>\n",
       "      <td>27890.0</td>\n",
       "      <td>Ok for 5-8 years</td>\n",
       "      <td>Large/Difficult to Obtain</td>\n",
       "    </tr>\n",
       "    <tr>\n",
       "      <th>...</th>\n",
       "      <td>...</td>\n",
       "      <td>...</td>\n",
       "      <td>...</td>\n",
       "    </tr>\n",
       "    <tr>\n",
       "      <th>99</th>\n",
       "      <td>13224.0</td>\n",
       "      <td>Ok for 5-8 years</td>\n",
       "      <td>Large/Difficult to Obtain</td>\n",
       "    </tr>\n",
       "    <tr>\n",
       "      <th>100</th>\n",
       "      <td>13218.0</td>\n",
       "      <td>Ok for 5-8 years</td>\n",
       "      <td>Large/Difficult to Obtain</td>\n",
       "    </tr>\n",
       "    <tr>\n",
       "      <th>101</th>\n",
       "      <td>13147.0</td>\n",
       "      <td>Ok for 3-5 years</td>\n",
       "      <td>Not Special/Publicly Available</td>\n",
       "    </tr>\n",
       "    <tr>\n",
       "      <th>102</th>\n",
       "      <td>13144.0</td>\n",
       "      <td>Ok for 5-8 years</td>\n",
       "      <td>Large/Difficult to Obtain</td>\n",
       "    </tr>\n",
       "    <tr>\n",
       "      <th>103</th>\n",
       "      <td>13145.0</td>\n",
       "      <td>Ok for 5-8 years</td>\n",
       "      <td>Large/Difficult to Obtain</td>\n",
       "    </tr>\n",
       "  </tbody>\n",
       "</table>\n",
       "<p>103 rows × 3 columns</p>\n",
       "</div>"
      ],
      "text/plain": [
       "     company_id               UVP                 Data Uniqueness\n",
       "0       28367.0  Ok for 5-8 years  Not Special/Publicly Available\n",
       "1       27989.0  Ok for 3-5 years  Not Special/Publicly Available\n",
       "2       27966.0  Ok for 5-8 years       Large/Difficult to Obtain\n",
       "3       27943.0  Ok for 5-8 years       Large/Difficult to Obtain\n",
       "4       27890.0  Ok for 5-8 years       Large/Difficult to Obtain\n",
       "..          ...               ...                             ...\n",
       "99      13224.0  Ok for 5-8 years       Large/Difficult to Obtain\n",
       "100     13218.0  Ok for 5-8 years       Large/Difficult to Obtain\n",
       "101     13147.0  Ok for 3-5 years  Not Special/Publicly Available\n",
       "102     13144.0  Ok for 5-8 years       Large/Difficult to Obtain\n",
       "103     13145.0  Ok for 5-8 years       Large/Difficult to Obtain\n",
       "\n",
       "[103 rows x 3 columns]"
      ]
     },
     "execution_count": 27,
     "metadata": {},
     "output_type": "execute_result"
    }
   ],
   "source": [
    "predicted_labels_3"
   ]
  },
  {
   "cell_type": "code",
   "execution_count": 28,
   "id": "9c337ce3-1ea7-4389-9f0a-f9dadce38611",
   "metadata": {},
   "outputs": [],
   "source": [
    "comparison_df_3 = pd.merge(\n",
    "    true_labels[['company_id', 'UVP', 'Data Uniqueness']],\n",
    "    predicted_labels_3[['company_id', 'UVP', 'Data Uniqueness']],\n",
    "    on='company_id',\n",
    "    suffixes=('_true', '_predicted')\n",
    ")\n",
    "\n",
    "comparison_df_3.fillna('N/A', inplace=True)"
   ]
  },
  {
   "cell_type": "code",
   "execution_count": 29,
   "id": "59f3f363-192d-49fa-82f0-13d5d625c9b9",
   "metadata": {},
   "outputs": [
    {
     "data": {
      "text/html": [
       "<div>\n",
       "<style scoped>\n",
       "    .dataframe tbody tr th:only-of-type {\n",
       "        vertical-align: middle;\n",
       "    }\n",
       "\n",
       "    .dataframe tbody tr th {\n",
       "        vertical-align: top;\n",
       "    }\n",
       "\n",
       "    .dataframe thead th {\n",
       "        text-align: right;\n",
       "    }\n",
       "</style>\n",
       "<table border=\"1\" class=\"dataframe\">\n",
       "  <thead>\n",
       "    <tr style=\"text-align: right;\">\n",
       "      <th></th>\n",
       "      <th>company_id</th>\n",
       "      <th>UVP_true</th>\n",
       "      <th>Data Uniqueness_true</th>\n",
       "      <th>UVP_predicted</th>\n",
       "      <th>Data Uniqueness_predicted</th>\n",
       "    </tr>\n",
       "  </thead>\n",
       "  <tbody>\n",
       "    <tr>\n",
       "      <th>0</th>\n",
       "      <td>28367</td>\n",
       "      <td>Ok for 3-5 years</td>\n",
       "      <td>N/A</td>\n",
       "      <td>Ok for 5-8 years</td>\n",
       "      <td>Not Special/Publicly Available</td>\n",
       "    </tr>\n",
       "    <tr>\n",
       "      <th>1</th>\n",
       "      <td>27989</td>\n",
       "      <td>Ok for 1-2 years</td>\n",
       "      <td>Not Special/Publicly Available</td>\n",
       "      <td>Ok for 3-5 years</td>\n",
       "      <td>Not Special/Publicly Available</td>\n",
       "    </tr>\n",
       "    <tr>\n",
       "      <th>2</th>\n",
       "      <td>27966</td>\n",
       "      <td>Ok for 5-8 years</td>\n",
       "      <td>Large/Difficult to Obtain</td>\n",
       "      <td>Ok for 5-8 years</td>\n",
       "      <td>Large/Difficult to Obtain</td>\n",
       "    </tr>\n",
       "    <tr>\n",
       "      <th>3</th>\n",
       "      <td>27943</td>\n",
       "      <td>Ok for 1-2 years</td>\n",
       "      <td>Not Special/Publicly Available</td>\n",
       "      <td>Ok for 5-8 years</td>\n",
       "      <td>Large/Difficult to Obtain</td>\n",
       "    </tr>\n",
       "    <tr>\n",
       "      <th>4</th>\n",
       "      <td>27890</td>\n",
       "      <td>Ok for 1-2 years</td>\n",
       "      <td>Large/Difficult to Obtain</td>\n",
       "      <td>Ok for 5-8 years</td>\n",
       "      <td>Large/Difficult to Obtain</td>\n",
       "    </tr>\n",
       "    <tr>\n",
       "      <th>...</th>\n",
       "      <td>...</td>\n",
       "      <td>...</td>\n",
       "      <td>...</td>\n",
       "      <td>...</td>\n",
       "      <td>...</td>\n",
       "    </tr>\n",
       "    <tr>\n",
       "      <th>98</th>\n",
       "      <td>13224</td>\n",
       "      <td>Ok for 3-5 years</td>\n",
       "      <td>Large/Difficult to Obtain</td>\n",
       "      <td>Ok for 5-8 years</td>\n",
       "      <td>Large/Difficult to Obtain</td>\n",
       "    </tr>\n",
       "    <tr>\n",
       "      <th>99</th>\n",
       "      <td>13218</td>\n",
       "      <td>Ok for 3-5 years</td>\n",
       "      <td>Large/Difficult to Obtain</td>\n",
       "      <td>Ok for 5-8 years</td>\n",
       "      <td>Large/Difficult to Obtain</td>\n",
       "    </tr>\n",
       "    <tr>\n",
       "      <th>100</th>\n",
       "      <td>13147</td>\n",
       "      <td>Ok for 1-2 years</td>\n",
       "      <td>Not Special/Publicly Available</td>\n",
       "      <td>Ok for 3-5 years</td>\n",
       "      <td>Not Special/Publicly Available</td>\n",
       "    </tr>\n",
       "    <tr>\n",
       "      <th>101</th>\n",
       "      <td>13144</td>\n",
       "      <td>Ok for 1-2 years</td>\n",
       "      <td>Large/Difficult to Obtain</td>\n",
       "      <td>Ok for 5-8 years</td>\n",
       "      <td>Large/Difficult to Obtain</td>\n",
       "    </tr>\n",
       "    <tr>\n",
       "      <th>102</th>\n",
       "      <td>13145</td>\n",
       "      <td>Already obsolete</td>\n",
       "      <td>Quantity questionable</td>\n",
       "      <td>Ok for 5-8 years</td>\n",
       "      <td>Large/Difficult to Obtain</td>\n",
       "    </tr>\n",
       "  </tbody>\n",
       "</table>\n",
       "<p>103 rows × 5 columns</p>\n",
       "</div>"
      ],
      "text/plain": [
       "     company_id          UVP_true            Data Uniqueness_true  \\\n",
       "0         28367  Ok for 3-5 years                             N/A   \n",
       "1         27989  Ok for 1-2 years  Not Special/Publicly Available   \n",
       "2         27966  Ok for 5-8 years       Large/Difficult to Obtain   \n",
       "3         27943  Ok for 1-2 years  Not Special/Publicly Available   \n",
       "4         27890  Ok for 1-2 years       Large/Difficult to Obtain   \n",
       "..          ...               ...                             ...   \n",
       "98        13224  Ok for 3-5 years       Large/Difficult to Obtain   \n",
       "99        13218  Ok for 3-5 years       Large/Difficult to Obtain   \n",
       "100       13147  Ok for 1-2 years  Not Special/Publicly Available   \n",
       "101       13144  Ok for 1-2 years       Large/Difficult to Obtain   \n",
       "102       13145  Already obsolete           Quantity questionable   \n",
       "\n",
       "        UVP_predicted       Data Uniqueness_predicted  \n",
       "0    Ok for 5-8 years  Not Special/Publicly Available  \n",
       "1    Ok for 3-5 years  Not Special/Publicly Available  \n",
       "2    Ok for 5-8 years       Large/Difficult to Obtain  \n",
       "3    Ok for 5-8 years       Large/Difficult to Obtain  \n",
       "4    Ok for 5-8 years       Large/Difficult to Obtain  \n",
       "..                ...                             ...  \n",
       "98   Ok for 5-8 years       Large/Difficult to Obtain  \n",
       "99   Ok for 5-8 years       Large/Difficult to Obtain  \n",
       "100  Ok for 3-5 years  Not Special/Publicly Available  \n",
       "101  Ok for 5-8 years       Large/Difficult to Obtain  \n",
       "102  Ok for 5-8 years       Large/Difficult to Obtain  \n",
       "\n",
       "[103 rows x 5 columns]"
      ]
     },
     "execution_count": 29,
     "metadata": {},
     "output_type": "execute_result"
    }
   ],
   "source": [
    "comparison_df_3"
   ]
  },
  {
   "cell_type": "code",
   "execution_count": 30,
   "id": "053d4c91-78ce-4b75-9902-9ce7a47bf3cf",
   "metadata": {},
   "outputs": [],
   "source": [
    "# Unique Value Proposition (UVP) confusion matrix\n",
    "uvp_true = comparison_df_3['UVP_true']\n",
    "uvp_pred = comparison_df_3['UVP_predicted']\n",
    "uvp_labels = [\"Already obsolete\", \"Ok for 1-2 years\", \"Ok for 3-5 years\", \"Ok for 5-8 years\"]\n",
    "uvp_confusion_matrix = confusion_matrix(uvp_true, uvp_pred, labels=uvp_labels)\n",
    "\n",
    "# Database Characteristics confusion matrix\n",
    "data_true = comparison_df_3['Data Uniqueness_true']\n",
    "data_pred = comparison_df_3['Data Uniqueness_predicted']\n",
    "data_labels = [\"Large/Difficult to Obtain\", \"Questionable Quantity\", \"Not Special/Publicly Available\", \"N/A\"]\n",
    "data_confusion_matrix = confusion_matrix(data_true, data_pred, labels=data_labels)\n",
    "\n",
    "# Plotting the confusion matrices\n",
    "fig, ax = plt.subplots(1, 2, figsize=(20, 8))\n",
    "\n",
    "sns.heatmap(uvp_confusion_matrix, annot=True, fmt='d', xticklabels=uvp_labels, yticklabels=uvp_labels, ax=ax[0])\n",
    "ax[0].set_title('Confusion Matrix for UVP')\n",
    "ax[0].set_xlabel('Predicted')\n",
    "ax[0].set_ylabel('True')\n",
    "\n",
    "sns.heatmap(data_confusion_matrix, annot=True, fmt='d', xticklabels=data_labels, yticklabels=data_labels, ax=ax[1])\n",
    "ax[1].set_title('Confusion Matrix for Database Characteristics')\n",
    "ax[1].set_xlabel('Predicted')\n",
    "ax[1].set_ylabel('True')\n",
    "\n",
    "plt.tight_layout()\n",
    "plt.show()"
   ]
  },
  {
   "cell_type": "code",
   "execution_count": 31,
   "id": "d8f88a8d-6807-44aa-9bb9-88a1cdde3bca",
   "metadata": {},
   "outputs": [
    {
     "data": {
      "text/plain": [
       "0.2912621359223301"
      ]
     },
     "execution_count": 31,
     "metadata": {},
     "output_type": "execute_result"
    }
   ],
   "source": [
    "accuracy_uvp_gpt4 = accuracy_score(comparison_df_3['UVP_true'], comparison_df_3['UVP_predicted'])\n",
    "accuracy_uvp_gpt4"
   ]
  },
  {
   "cell_type": "code",
   "execution_count": 32,
   "id": "edbacb68-9c88-4721-ac08-5bce7d1ad577",
   "metadata": {},
   "outputs": [
    {
     "data": {
      "text/plain": [
       "0.5728155339805825"
      ]
     },
     "execution_count": 32,
     "metadata": {},
     "output_type": "execute_result"
    }
   ],
   "source": [
    "accuracy_du_gpt4 = accuracy_score(comparison_df_3['Data Uniqueness_true'], comparison_df_3['Data Uniqueness_predicted'])\n",
    "accuracy_du_gpt4"
   ]
  },
  {
   "cell_type": "code",
   "execution_count": 33,
   "id": "f56218a4-e046-4da6-936b-66435263cd82",
   "metadata": {},
   "outputs": [],
   "source": [
    "comparison_df_3.to_csv('Data/comparison_df_gpt4', index=False)"
   ]
  },
  {
   "cell_type": "code",
   "execution_count": null,
   "id": "b242a63a-1617-4ed6-9a25-0ef709f6f9d0",
   "metadata": {},
   "outputs": [],
   "source": []
  },
  {
   "cell_type": "code",
   "execution_count": null,
   "id": "06d9c3df-6b96-40ac-85b4-3dbee0cf5de9",
   "metadata": {},
   "outputs": [],
   "source": []
  }
 ],
 "metadata": {
  "kernelspec": {
   "display_name": "Python 3 (ipykernel)",
   "language": "python",
   "name": "python3"
  },
  "language_info": {
   "codemirror_mode": {
    "name": "ipython",
    "version": 3
   },
   "file_extension": ".py",
   "mimetype": "text/x-python",
   "name": "python",
   "nbconvert_exporter": "python",
   "pygments_lexer": "ipython3",
   "version": "3.11.5"
  }
 },
 "nbformat": 4,
 "nbformat_minor": 5
}
