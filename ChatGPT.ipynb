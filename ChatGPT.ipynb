{
 "cells": [
  {
   "cell_type": "code",
   "execution_count": 1,
   "metadata": {},
   "outputs": [],
   "source": [
    "from openai import OpenAI\n",
    "import pandas as pd\n",
    "import os"
   ]
  },
  {
   "cell_type": "code",
   "execution_count": 2,
   "metadata": {},
   "outputs": [],
   "source": [
    "# Open Ai key"
   ]
  },
  {
   "cell_type": "code",
   "execution_count": 3,
   "metadata": {},
   "outputs": [],
   "source": [
    "# Load and preprocess data\n",
    "example = pd.read_csv('Data/examples_chatgpt.csv')\n",
    "example = example.loc[:, ~example.columns.str.contains('^Unnamed')]\n",
    "example['Data Uniqueness'].fillna('N/A', inplace=True)\n",
    "final_df = pd.read_csv('Data/final_chatgpt.csv')\n",
    "final_df = final_df[:104]"
   ]
  },
  {
   "cell_type": "code",
   "execution_count": 4,
   "metadata": {},
   "outputs": [
    {
     "name": "stdout",
     "output_type": "stream",
     "text": [
      "Classifying company 1 of 104\n",
      "Classifying company 2 of 104\n",
      "Classifying company 3 of 104\n",
      "Classifying company 4 of 104\n",
      "Classifying company 5 of 104\n",
      "Classifying company 6 of 104\n",
      "Classifying company 7 of 104\n",
      "Classifying company 8 of 104\n",
      "Classifying company 9 of 104\n",
      "Classifying company 10 of 104\n",
      "Classifying company 11 of 104\n",
      "Classifying company 12 of 104\n",
      "Classifying company 13 of 104\n",
      "Classifying company 14 of 104\n",
      "Classifying company 15 of 104\n",
      "Classifying company 16 of 104\n",
      "Classifying company 17 of 104\n",
      "Classifying company 18 of 104\n",
      "Classifying company 19 of 104\n",
      "Classifying company 20 of 104\n",
      "Classifying company 21 of 104\n",
      "Classifying company 22 of 104\n",
      "Classifying company 23 of 104\n",
      "Classifying company 24 of 104\n",
      "Classifying company 25 of 104\n",
      "Classifying company 26 of 104\n",
      "Classifying company 27 of 104\n",
      "Classifying company 28 of 104\n",
      "Classifying company 29 of 104\n",
      "Classifying company 30 of 104\n",
      "Classifying company 31 of 104\n",
      "Classifying company 32 of 104\n",
      "Classifying company 33 of 104\n",
      "Classifying company 34 of 104\n",
      "Classifying company 35 of 104\n",
      "Classifying company 36 of 104\n",
      "Classifying company 37 of 104\n",
      "Classifying company 38 of 104\n",
      "Classifying company 39 of 104\n",
      "Classifying company 40 of 104\n",
      "Classifying company 41 of 104\n",
      "Classifying company 42 of 104\n",
      "Classifying company 43 of 104\n",
      "Classifying company 44 of 104\n",
      "Classifying company 45 of 104\n",
      "Classifying company 46 of 104\n",
      "Classifying company 47 of 104\n",
      "Classifying company 48 of 104\n",
      "Classifying company 49 of 104\n",
      "Classifying company 50 of 104\n",
      "Classifying company 51 of 104\n",
      "Classifying company 52 of 104\n",
      "Classifying company 53 of 104\n",
      "Classifying company 54 of 104\n",
      "Classifying company 55 of 104\n",
      "Classifying company 56 of 104\n",
      "Classifying company 57 of 104\n",
      "Classifying company 58 of 104\n",
      "Classifying company 59 of 104\n",
      "Classifying company 60 of 104\n",
      "Classifying company 61 of 104\n",
      "Classifying company 62 of 104\n",
      "Classifying company 63 of 104\n",
      "Classifying company 64 of 104\n",
      "Classifying company 65 of 104\n",
      "Classifying company 66 of 104\n",
      "Classifying company 67 of 104\n",
      "Classifying company 68 of 104\n",
      "Classifying company 69 of 104\n",
      "Classifying company 70 of 104\n",
      "Classifying company 71 of 104\n",
      "Classifying company 72 of 104\n",
      "Classifying company 73 of 104\n",
      "Classifying company 74 of 104\n",
      "Classifying company 75 of 104\n",
      "Classifying company 76 of 104\n",
      "Classifying company 77 of 104\n",
      "Classifying company 78 of 104\n",
      "Classifying company 79 of 104\n",
      "Classifying company 80 of 104\n",
      "Classifying company 81 of 104\n",
      "Classifying company 82 of 104\n",
      "Classifying company 83 of 104\n",
      "Classifying company 84 of 104\n",
      "Classifying company 85 of 104\n",
      "Classifying company 86 of 104\n",
      "Classifying company 87 of 104\n",
      "Classifying company 88 of 104\n",
      "Classifying company 89 of 104\n",
      "Classifying company 90 of 104\n",
      "Classifying company 91 of 104\n",
      "Classifying company 92 of 104\n",
      "Classifying company 93 of 104\n",
      "Classifying company 94 of 104\n",
      "Classifying company 95 of 104\n",
      "Classifying company 96 of 104\n",
      "Classifying company 97 of 104\n",
      "Classifying company 98 of 104\n",
      "Classifying company 99 of 104\n",
      "Classifying company 100 of 104\n",
      "Classifying company 101 of 104\n",
      "Classifying company 102 of 104\n",
      "Classifying company 103 of 104\n",
      "Classifying company 104 of 104\n"
     ]
    }
   ],
   "source": [
    "# \n",
    "def classify_companies(short_desc, long_desc, scraped_info, model_name, index, total):\n",
    "    \"\"\"\n",
    "    Classify company profiles using a pretrained language model.\n",
    "    \"\"\"\n",
    "    response = client.chat.completions.create(\n",
    "          model= model_name,\n",
    "          messages = [{'role': 'system',\n",
    "  'content': 'You are a helpful assistant trained to classify company profiles based on their descriptions along two dimensions: Unique Value Proposition (UVP) and Database Uniqueness.'},\n",
    " {'role': 'user',\n",
    "  'content': 'Classify the company with these descriptions: Short description: \\'Machine learning embeddings as a service\\', Long description: \\'Metal does machine learning embeddings as a service.  Embeddings are what AI models use to represent meaning. They capture the relationship between concepts, and they’re at the heart of every generative AI application, like ChatGPT and DALL-E.\\n\\nAs the data format of machine learning, embeddings are critical to every AI application. But there are no existing tools that help developers use them.\\n\\nMetal is a fully managed service for developers to build applications with embeddings. We handle all of the infrastructure, provide out of the box operations, and simple APIs.\\n\\nSkip the complexity, ship faster with Metal 🤘\\', Scraped Info: \\'AI for Financial Analysts | Metal metal. Security Blog Careers 2 Contact Talk to Sales Y $2.5M Seed Round:\\xa0AI\\xa0for Financial Services AI\\xa0Accelerated Diligence & Portfolio Management Applied AI for Private Equity and Venture Capital Join the Waitlist X Name Email Address Thank you! Your submission has been received! Oops! Something went wrong while submitting the form. Request Access \"Our analysts can now synthesize insights from data in minutes – a task that previously required days of analysis. This lets us research and make investment decisions more efficiently. And Metal\\'s commitment to trust and security has helped us scale with complete confidence.” - CTO, $25B Private Equity Fund © 2024 Metal Technologies, Inc. All rights reserved. API\\xa0Status Privacy Terms\\'. The company was previously classified as UVP - Ok for 5-8 years, Data Uniqueness - Large/Difficult to Obtain.'},\n",
    " {'role': 'assistant',\n",
    "  'content': 'Based on the descriptions, the classifications are as follows: UVP - Ok for 5-8 years, Data Uniqueness - Large/Difficult to Obtain.'},\n",
    " {'role': 'user',\n",
    "  'content': \"Classify the company with these descriptions: Short description: 'Incident Management platform for large enterprises', Long description: 'Thread is an incident management tool for large enterprises. We enable developers to immediately identify the root cause of incidents allowing them to resolve issues up to 10x faster.', Scraped Info: 'Customer Success Launch Home Contact The Lifeline for your Customers Secure Your Spot on Thread: The Ultimate Modern Customer Service Platform! Whether you're building from scratch or boosting your established team, we've got the tools to elevate your customer service game. Don't miss out – Join the Waitlist now for exclusive access! Thank you! Your submission has been received! Oops! Something went wrong while submitting the form. Let Customer Service Drive Revenue Thread can optimize data gathered from customer support, transforming Customer Support into a Profit Center. Your Customer Support channels represent the most direct means through which you communicate with your customers. We leverage data from these interactions to develop personas for each of your customers, simplifying customer success. Learn\\xa0More... Simplify Customer Engagement Are you tired of spending hours analyzing trends in customer feedback? Unsure of how to prioritize customer issues effectively? With our lightweight CRM and Project Management dashboard, Thread users can effortlessly categorize customer feedback into actionable items and seamlessly prioritize these tickets as engineering tasks. Learn More... Make Customer Service a Team Sport In today's business world, customer success relies on diverse and intricate demands that often fall outside a single team's core expertise. Empower your technical customer support agents to handle up to 10 times more enquiries, and supercharge their ability to write tickets for the engineering team. Learn More... Keep Customer Data\\xa0Secure with Thread Our platform is SOC-2 compliant and is tailored for enterprise use. Unlike other tools, you can rest easy, knowing that your sensitive customer data won't be used to train external models. Read our Security White Paper to learn more. Click here to Join the Waitlist! Join Waitlist Contact Privacy Policy Terms of Service Security'. The company was previously classified as UVP - Ok for 1-2 years, Data Uniqueness - Not Special/Publicly Available.\"},\n",
    " {'role': 'assistant',\n",
    "  'content': 'Based on the descriptions, the classifications are as follows: UVP - Ok for 1-2 years, Data Uniqueness - Not Special/Publicly Available.'},\n",
    " {'role': 'user',\n",
    "  'content': \"Classify the company with these descriptions: Short description: 'Fine-tuned AI models for talking to your database', Long description: 'Defog lets your business users query data in seconds, using everyday language.\\n\\nWe are powered by large language models that can search and visualise structured data (like SQL databases or Data Warehouses), and can be further fine-tuned and and deployed on-prem on your servers.', Scraped Info: 'Defog.ai - Fine-tuned AI models for enterprise SQL Announcing SQLCoder-70B: the state of the art in SQL code generation Solutions Product Pricing Docs Blog Log In Sign Up Try with your data Solutions Product Pricing Docs Blog Human-level AI analyst for every enterprise user Deploy accurate AI-assisted data analysis with Defog's all-in-one platform. Request Demo Sign Up We are backed by Best LLM for the job Our model SQLCoder answers questions with a higher accuracy than any other proprietary or open source model currently in the market. Over 200,000 open-source downloads in 7 months Consistent and deterministic results every time, unlike other models Rapidly improving accuracy and latency with every new release Answers you can trust Our training and inference engine help you get the most out of SQLCoder. Produces accurate results, even when specialized knowlege is required Captures explicit rules from database schema and glossary instructions Extracts hidden tribal knowledge from golden queries and user feedback Infinitely configurable user experience Defog’s extensible front-end application is designed to provide an infinitely customizable interface for your users. Defog intelligently visualizes the data and allows users to dig deeper with follow-on questions. It can be used as a standalone application or integrated with familiar BI tools like Tableau and PowerBI. Keep your data private Defog is architected to ensure your data is never accessed or moved. Our Hard Filters ensure row-level access can be appropriately restricted for individual users. Our on-prem option gives ultimate control with the model, training and inference all hosted locally in your environment. Explore More Features Powered by SQLCoder Defog is powered by SQLCoder – the best performing open-source model for text-to-SQL generation. State-of-the-art model SQLCoder is the industry-leading model for SQL generation, significantly outperforming all major models for out-of-training set SQL schemas in Postgres. When fine-tuned on individual database schemas, SQLCoder has 99+% accuracy for text to SQL conversions. Explore on Hugging Face \\xa0➔ Our evaluation framework SQL-Eval is our open source framework to evaluate the correctness of LLM-generated SQL. Our goal is to produce a reproducible framework that measures both the complexity and semantic diversity of queries. Learn more \\xa0➔ Supported databases SQLCoder is compatible with all major SQL databases and data warehouses. Accelerate your deployment with an all-in-one platform Request a Demo \\xa0➔ We are backed by Resources Docs Product Pricing Features Company Blog Contact Terms'. The company was previously classified as UVP - Ok for 1-2 years, Data Uniqueness - Large/Difficult to Obtain.\"},\n",
    " {'role': 'assistant',\n",
    "  'content': 'Based on the descriptions, the classifications are as follows: UVP - Ok for 1-2 years, Data Uniqueness - Large/Difficult to Obtain.'},\n",
    " {'role': 'user',\n",
    "  'content': 'Classify the company with these descriptions: Short description: \\'marketplace facilitating IRL social experiences at local venues\\', Long description: \\'222 is a full-stack social experiences platform to generate real-life experiences at curated hyperlocal venues where we can reliably predict you will like both the people & place.\\', Scraped Info: \\'222 this must be the place - choose chance - accelerating chance social\\n\\t\\t\\t\\t\\t\\tencounters, 222,\\n\\t\\t\\t\\t\\t\\tangel numbers, meet new people and discover your city, only in LA about sign up contact privacy policy | terms of service © two two two inc . what is 222? We won\\'t tolerate a future where we spend the majority of our time in a virtual world, robbed of our attention, meaning, & core life experiences. This is not a dating app. This is not a friend-making service. This is not\\n\\t\\t\\t\\t\\tnetworking. This is\\n\\t\\t\\t\\t\\tnot\\n\\t\\t\\t\\t\\tmindless scrolling. This is not random. This is not the metaverse. This is not a\\n\\t\\t\\t\\t\\tdistraction. 222 is an opportunity to choose chance. No profiles, no DMs, no scrolling, no swiping. Just say \"yes\" &\\n\\t\\t\\t\\t\\texplore the\\n\\t\\t\\t\\t\\tchance encounters you\\'d have never experienced. Experiences are always in public & in a group setting. Each member is vetted\\n\\t\\t\\t\\t\\tbefore being\\n\\t\\t\\t\\t\\tinvited to an experience. contact questions or concerns ? fill out the form below or text us @ \\u202d+1(844)764-0222\\u202c restaurateur, venue owner, or event curator? Name Email Message\\'. The company was previously classified as UVP - Ok for 1-2 years, Data Uniqueness - Quantity questionable.'},\n",
    " {'role': 'assistant',\n",
    "  'content': 'Based on the descriptions, the classifications are as follows: UVP - Ok for 1-2 years, Data Uniqueness - Quantity questionable.'},\n",
    " {'role': 'user',\n",
    "  'content': \"Classify the company with these descriptions: Short description: 'Generative AI Photographer for E-Commerce', Long description: 'Booth AI enables companies to supercharge their creative output with a generative-AI powered image production platform. Booth AI replaces complicated, labor intensive, time consuming and expensive commercial product lifestyle photoshoots. Brand managers, merchandisers, and marketers can produce beautiful lifestyle images in a matter of seconds at a fraction of the cost of traditional photoshoots.', Scraped Info: 'Booth AI - Custom AI at Your Fingertips Try it today Try it today Try it today Try it today Start Free Trial Start Free Trial Introducing Booth AI Workflows AI Solutions in minutes, not months Introducing Booth AI Workflows AI Solutions in minutes, not months Introducing Booth AI Workflows AI Solutions in minutes, not months Introducing Booth AI Workflows AI Solutions in minutes, not months Enterprise-ready, scale-ready, disruption-ready Try 14 Days Free Trial Try 14 Days Free Trial Book A Free Demo Book A Free Demo Try 14 Days Free Trial Try 14 Days Free Trial Book A Free Demo Book A Free Demo Try 14 Days Free Trial Try 14 Days Free Trial Book A Free Demo Book A Free Demo Try 14 Days Free Trial Try 14 Days Free Trial Book A Free Demo Book A Free Demo Integration Connect With 100+ Apps Integration Connect With 100+ Apps Integration Connect With 100+ Apps Integration Connect With 100+ Apps Workplace Tools Google Drive Sheets, Folders Integrations Details Details Install Install Google Drive Sheets, Folders Integrations Details Details Install Install Google Drive Sheets, Folders Integrations Details Details Install Install Google Drive Sheets, Folders Integrations Details Details Install Install Onedrive Onedrive and Microsoft Dynamics 365 Details Details Install Install Onedrive Onedrive and Microsoft Dynamics 365 Details Details Install Install Onedrive Onedrive and Microsoft Dynamics 365 Details Details Install Install Onedrive Onedrive and Microsoft Dynamics 365 Details Details Install Install Project Management Shopify E-commerce platform for online stores and retail. Details Details Install Install Shopify E-commerce platform for online stores and retail. Details Details Install Install Shopify E-commerce platform for online stores and retail. Details Details Install Install Shopify E-commerce platform for online stores and retail. Details Details Install Install Zapier Advertising platform for online campaigns and ads. Details Details Install Install Zapier Advertising platform for online campaigns and ads. Details Details Install Install Zapier Advertising platform for online campaigns and ads. Details Details Install Install Zapier Advertising platform for online campaigns and ads. Details Details Install Install Marketing Automation Mailchimp Email Automation Details Details Install Install Mailchimp Email Automation Details Details Install Install Mailchimp Email Automation Details Details Install Install Mailchimp Email Automation Details Details Install Install Bamboo B2B contact database and lead generation platform Details Details Install Install Bamboo B2B contact database and lead generation platform Details Details Install Install Bamboo B2B contact database and lead generation platform Details Details Install Install Bamboo B2B contact database and lead generation platform Details Details Install Install Join Booth AI Solve your most pressing automation problem, today Try for free Try for free Build your AI solution today hello@booth.ai Copyright ©\\xa02024\\xa0Booth AI, Inc.\\xa0All Rights Reserved. Terms & Condition Privacy Policy Join Booth AI Solve your most pressing automation problem, today Try for free Try for free Build your AI solution today hello@booth.ai Copyright ©\\xa02024\\xa0Booth AI, Inc.\\xa0All Rights Reserved. Terms & Condition Privacy Policy Join Booth AI Solve your most pressing automation problem, today Try for free Try for free Build your AI solution today hello@booth.ai Copyright ©\\xa02024\\xa0Booth AI, Inc.\\xa0All Rights Reserved. Terms & Condition Privacy Policy Join Booth AI Solve your most pressing automation problem, today Try for free Try for free Build your AI solution today hello@booth.ai Copyright ©\\xa02024\\xa0Booth AI, Inc.\\xa0All Rights Reserved. Terms & Condition Privacy Policy'. The company was previously classified as UVP - Already obsolete, Data Uniqueness - Not Special/Publicly Available.\"},\n",
    " {'role': 'assistant',\n",
    "  'content': 'Based on the descriptions, the classifications are as follows: UVP - Already obsolete, Data Uniqueness - Not Special/Publicly Available.'},\n",
    " {'role': 'user',\n",
    "  'content': \"Classify the company with these descriptions: Short description: 'Mixpanel for LLM apps', Long description: 'nan', Scraped Info: 'Langfuse Docs Docs Pricing Pricing Changelog Changelog Blog Blog Demo Discord GitHub Sign Up Light Open Source LLM Engineering Platform Traces , evals , prompt management and metrics to debug and improve your LLM application. Try demo View docs Backed by Teams building complex LLM apps rely on Langfuse Light Platform LLM Tracing Prompt Management Evaluation Datasets Metrics Integrations Python SDK JS/TS SDK OpenAI SDK Langchain Llama-Index Litellm Flowise Langflow API Resources Documentation Interactive Demo Changelog Roadmap Pricing Status Self-hosting Open Source About Blog Careers About us Contact Schedule Demo OSS Friends Legal Security Imprint Terms Privacy © 2022- 2024 Finto Technologies'. The company was previously classified as UVP - Ok for 1-2 years, Data Uniqueness - N/A.\"},\n",
    " {'role': 'assistant',\n",
    "  'content': 'Based on the descriptions, the classifications are as follows: UVP - Ok for 1-2 years, Data Uniqueness - N/A.'},\n",
    "  {\n",
    "  'role': 'user',\n",
    "  'content': \"Classify the company with these descriptions: Short description: 'Bluebird', Long description: 'Details not provided', Scraped Info: 'Bluebird is a leading provider in its field, known for innovative solutions and a strong market presence. Established with a commitment to quality and customer satisfaction, Bluebird continues to grow by adapting to the needs of its customers and leveraging cutting-edge technology. Key offerings include a range of services tailored to both individual and corporate clients, ensuring a wide-reaching impact across various sectors. Noteworthy is Bluebird’s dedication to sustainability and ethical practices, making it a standout example of corporate responsibility in action. Stay updated with the latest from Bluebird on our official site and social media pages. Learn more about our services and how we can assist you in achieving your goals. © 2023 Bluebird Inc. All rights reserved.' The company was previously classified as UVP - Ok for 3-5 years, Data Uniqueness -  Not Special/Publicly Available.\"}\n",
    "  {'role': 'assistant',\n",
    "  'content': 'Based on the descriptions, the classifications are as follows: UVP - Ok for 3-5 years, Data Uniqueness - Not Special/Publicly Available.'}, \n",
    " {'role': 'user',\n",
    "  'content': 'Classify the company with these descriptions: Short description: \\'Easy AI integrations into applications.\\', Long description: \\'Pyq makes it easy for developers to build features powered by AI. We do this by identifying specific engineering tasks AI solves well and providing simple APIs that any developer can use within 5 minutes.\\n\\nFor example, today we allow developers to build content moderation filters, image captioners for accessibility, image generation and sales call transcribers within minutes.\\', Scraped Info: \\'Pyq: Use AI to Push Less Paper Home Technology How it works PYQ Initium Extract data from documents using RAG PYQ Radix Industry-Specific LLMs (Invite Only) PYQ Culmina Connect with existing systems (Invite Only) Solutions Industries Insurance For brokerages & carriers Banking (Coming Soon) For underwriting, compliance and customer service Healthcare (Coming Soon) For clinics & contact centers Readymade Solutions Submission Generator Generate carrier submissions and cover letters Policy Comparison Extract and compare key details from carrier quotes & policies Commission Extractor Extract commissions from invoices and export to your accounting software Request an automation Blog About Us Sign up Login Book a Demo Sign up Log in Use AI to make pushing paper your company\\'s superpower Automations that can pull information from documents, fill out forms and software, and integrate with your existing systems Book a demo Use Cases Backed by Investors: PYQ Enterprise Document Automations That Work Traditional RPA systems are brittle, narrow and difficult to maintain. Fixing them takes more resources than they save in the first place. We\\'ve built state-of-the-art document retrieval, industry-specific large language models and infrastructure that are much smarter and more adaptable. Robust and (actually) Smart Our document ingestion and processing systems can adapt to changes in your documents and underlying systems automatically, which means things don\\'t break when those documents inevitably change. Handles Long PDFs LLMs may now have big context windows, but they still can\\'t recall information from long documents well, get distracted by extraneous information and frequently hallucinate. Our document retrieval system keeps them honest (literally). We can also handle any PDF formatting, tables and charts. Integrates with Your Systems Plug into your ERP, accounting software, CRM and anything else you already use. It\\'s meant to integrate into your business seamlessly. Doesn\\'t have to be another thing to log into, unless you want that. Privacy Conscious We\\'re SOC2 Type II &\\xa0HIPAA compliant, and offer on-prem deployments for the entire stack on request. Readymade Solutions Quickly Onboard For Specific Use-Cases Integrate quickly with our out-of-the-box automations Readymade Solutions Tackle specific hurdles These solutions are designed to solve common problems for specific industries. Readymade Solutions Minimal Development Needed Using our readymade solutions, you can start using AI with little to no development effort. Readymade Solutions Enterprise Solutions Work With Us to Build Custom\\xa0Automations Leverage our comprehensive platform and expertise to create custom automations that are built specifically for your needs. Tailor-Made Solutions Our team of experts works with you to build automations that are tailored to your business Hands-On Support SLAs, ongoing production support and deployment support packages available. Deploy Anywhere Run the entire system in our cloud, yours or anywhere else, with our setup expertise included. Advanced Analytics Unlock key insights with our robust analytics and reporting features. Book an Enterprise Call Success Stories Hear how our custom AI solutions have driven efficiency and success for our clients \"Pyq’s AI infrastructure has been amazing. It handles production workloads reliably at high speed, and the team helped us ship one of our main products very fast.\" Akash Sharma CEO, Vellum \"Pyq is Stripe for Generative A.I. It\\'s a set of super powerful API building blocks of A.I. tools to build the upcoming generation of A.I. powered software.\" Michael Nusimow CTO, ThoughtfulGPT Stop pushing paper manually Automate your organzation\\'s mundane, repetitive tasks and use that time to grow Book a demo Use Cases Need more help?\\xa0Email us by clicking here Home Docs Status Blog About Us © 2024 pyq, Inc. All rights reserved. Privacy Policy Terms of Service Security\\'. The company was previously classified as UVP - Ok for 3-5 years, Data Uniqueness - Large/Difficult to Obtain.'},\n",
    " {'role': 'assistant',\n",
    "  'content': 'Based on the descriptions, the classifications are as follows: UVP - Ok for 3-5 years, Data Uniqueness - Large/Difficult to Obtain.'}, \n",
    " {'role': 'user',\n",
    "  'content': f\"Classify the company with these descriptions: Short description: '{short_desc}', Long description: '{long_desc}', Scraped Info: '{scraped_info}'.\" }       \n",
    "                     ]\n",
    "  )\n",
    "        \n",
    "        \n",
    "    print(f\"Classifying company {index + 1} of {total}\")\n",
    "\n",
    "\n",
    "    return response.choices[0].message.content\n",
    "\n",
    "model_name = \"gpt-4-turbo\"\n",
    "\n",
    "total_companies = len(final_df)\n",
    "\n",
    "final_df['classification'] = final_df.apply(lambda row: classify_companies(row['short_description'], row['long_description'], row['Scraped_Info'], model_name, row.name, total_companies), axis=1)\n",
    "\n"
   ]
  },
  {
   "cell_type": "code",
   "execution_count": 5,
   "metadata": {},
   "outputs": [
    {
     "name": "stdout",
     "output_type": "stream",
     "text": [
      "0      Based on the descriptions, the classifications...\n",
      "1      Based on the descriptions, the classifications...\n",
      "2      Based on the descriptions, the classifications...\n",
      "3      Based on the descriptions, the company can be ...\n",
      "4      Based on the descriptions, the classifications...\n",
      "                             ...                        \n",
      "99     Based on the descriptions and scraped informat...\n",
      "100    Based on the descriptions, the classifications...\n",
      "101    Based on the descriptions, the classifications...\n",
      "102    Based on the descriptions, the classifications...\n",
      "103    Based on the descriptions, the classifications...\n",
      "Name: classification, Length: 104, dtype: object\n"
     ]
    }
   ],
   "source": [
    "print(final_df['classification'])"
   ]
  },
  {
   "cell_type": "code",
   "execution_count": 6,
   "metadata": {},
   "outputs": [],
   "source": [
    "#Extract UVP and Data Uniqueness categories\n",
    "pattern = r'UVP - (.*?)(?:,|$) Data Uniqueness - (.*?)(?:\\.$|$)'\n",
    "final_df[['UVP', 'Data Uniqueness']] = final_df['classification'].str.extract(pattern)"
   ]
  },
  {
   "cell_type": "code",
   "execution_count": 7,
   "metadata": {},
   "outputs": [
    {
     "name": "stdout",
     "output_type": "stream",
     "text": [
      "                  UVP                 Data Uniqueness\n",
      "0    Ok for 3-5 years  Not Special/Publicly Available\n",
      "1    Ok for 3-5 years  Not Special/Publicly Available\n",
      "2    Ok for 3-5 years       Large/Difficult to Obtain\n",
      "3                 NaN                             NaN\n",
      "4    Ok for 3-5 years       Large/Difficult to Obtain\n",
      "..                ...                             ...\n",
      "99                NaN                             NaN\n",
      "100  Ok for 3-5 years       Large/Difficult to Obtain\n",
      "101  Already obsolete       Large/Difficult to Obtain\n",
      "102  Ok for 3-5 years       Large/Difficult to Obtain\n",
      "103  Ok for 5-8 years       Large/Difficult to Obtain\n",
      "\n",
      "[104 rows x 2 columns]\n"
     ]
    }
   ],
   "source": [
    "#Final Dataset\n",
    "print(final_df[['UVP', 'Data Uniqueness']])"
   ]
  },
  {
   "cell_type": "code",
   "execution_count": 8,
   "metadata": {},
   "outputs": [],
   "source": [
    "\n",
    "final_df.to_csv('Data/final_classified_gpt4.csv', index=False) #gpt 4"
   ]
  },
  {
   "cell_type": "code",
   "execution_count": null,
   "metadata": {},
   "outputs": [],
   "source": []
  }
 ],
 "metadata": {
  "kernelspec": {
   "display_name": "Python 3 (ipykernel)",
   "language": "python",
   "name": "python3"
  },
  "language_info": {
   "codemirror_mode": {
    "name": "ipython",
    "version": 3
   },
   "file_extension": ".py",
   "mimetype": "text/x-python",
   "name": "python",
   "nbconvert_exporter": "python",
   "pygments_lexer": "ipython3",
   "version": "3.10.4"
  }
 },
 "nbformat": 4,
 "nbformat_minor": 4
}
